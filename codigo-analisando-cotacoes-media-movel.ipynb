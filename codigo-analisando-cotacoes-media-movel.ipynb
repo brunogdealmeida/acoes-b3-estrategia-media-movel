{
 "cells": [
  {
   "cell_type": "markdown",
   "metadata": {},
   "source": [
    "## Importação das bibliotecas"
   ]
  },
  {
   "cell_type": "code",
   "execution_count": null,
   "metadata": {},
   "outputs": [],
   "source": [
    "import numpy as np\n",
    "import pandas as pd\n",
    "import plotly\n",
    "import plotly.offline as py\n",
    "import yfinance as yf\n",
    "import datetime\n",
    "import plotly.graph_objs as go\n",
    "import openpyxl as xl\n",
    "import yagmail"
   ]
  },
  {
   "cell_type": "markdown",
   "metadata": {},
   "source": [
    "## Sem esse comando os graficos não sao exibidos no notebook"
   ]
  },
  {
   "cell_type": "code",
   "execution_count": null,
   "metadata": {},
   "outputs": [],
   "source": [
    "from plotly.offline import plot, iplot\n",
    "plotly.offline.init_notebook_mode(connected=True)"
   ]
  },
  {
   "cell_type": "markdown",
   "metadata": {},
   "source": [
    "## Recebe os inputs do usuário e busca as cotações na base de dados do Yahoo"
   ]
  },
  {
   "cell_type": "code",
   "execution_count": null,
   "metadata": {
    "tags": []
   },
   "outputs": [],
   "source": [
    "# Recebe o input do usuario com o nome da ação\n",
    "stock = input('Digite o código da ação que deseja analisar')\n",
    "stock = stock + '.SA'\n",
    "# Recebe do usuário o valor das médias \n",
    "num_mm_short = int(input('Digite um valor númerico para a média móvel curta'))\n",
    "num_mm_long = int(input('Digite um valor numerico para a média móvel longa'))\n",
    "mean_short = 'MM' + str(num_mm_short)\n",
    "mean_long = 'MM' + str(num_mm_long)\n",
    "# Define o lote padrão de 100 ações\n",
    "capital = int(input('Digite o capital disponível para essa estratégia'))\n",
    "\n",
    "# Define o periodo de busca do historico de preços\n",
    "ini_date = input('Digite a data inicial da busca.(Formato:DD-MM-AAAA')\n",
    "end_date = input('Digite a data inicial da busca.(Formato:DD-MM-AAAA')\n",
    "ini_date = ini_date.replace('/','-')\n",
    "end_date = end_date.replace('/','-')\n",
    "ini_date = datetime.datetime.strptime(ini_date, \"%d-%m-%Y\")\n",
    "end_date = datetime.datetime.strptime(end_date, \"%d-%m-%Y\")\n",
    "\n",
    "# Digitação do email e senha caso queira receber alerta de entrada por email\n",
    "email = input('Digite seu email')\n",
    "password = input('Digite a senha do seu email. Caso não queria receber alerta via e-mail digitar 0 para a senha')\n",
    "yag = yagmail.SMTP(email,password)\n",
    "\n",
    "df_stock_prices = yf.download(stock, start=ini_date, end=end_date, interval='1d')\n",
    "df_stock_prices.reset_index(drop=False, inplace=True)\n",
    "\n",
    "df_stock_prices.head()"
   ]
  },
  {
   "cell_type": "markdown",
   "metadata": {},
   "source": [
    "## Cria as colunas de média móvel no Data Frame e preenche com zero os campos com 'NaN'"
   ]
  },
  {
   "cell_type": "code",
   "execution_count": null,
   "metadata": {
    "tags": []
   },
   "outputs": [],
   "source": [
    "df_stock_prices['MM_SHORT'] = df_stock_prices.Close.rolling(window=num_mm_short).mean()\n",
    "df_stock_prices['MM_LONG'] = df_stock_prices.Close.rolling(window=num_mm_long).mean()\n",
    "df_stock_prices['SPREAD_MM'] = df_stock_prices['MM_SHORT'] - df_stock_prices['MM_LONG']\n",
    "\n",
    "df_stock_prices['Start'] = 0.00\n",
    "df_stock_prices['Stop'] = 0.00\n",
    "df_stock_prices['Profit'] = 0.00\n",
    "\n",
    "df_stock_prices['MM_SHORT'] = df_stock_prices['MM_SHORT'].fillna(0)\n",
    "df_stock_prices['MM_LONG'] = df_stock_prices['MM_LONG'].fillna(0)\n",
    "# Excluindo do Data frame os registros com a média móvel zerada pois não dá pra fazer backtest nesses registros\n",
    "df_stock_prices = df_stock_prices.loc[df_stock_prices['MM_LONG']!=0]\n",
    "df_stock_prices.head(25)"
   ]
  },
  {
   "cell_type": "markdown",
   "metadata": {},
   "source": [
    "## Plota o gráfico com o preço de fechamento e as médias móveis"
   ]
  },
  {
   "cell_type": "code",
   "execution_count": null,
   "metadata": {},
   "outputs": [],
   "source": [
    "close_prices = go.Scatter(\n",
    "                            x = df_stock_prices['Date'],\n",
    "                            y = df_stock_prices['Close'],\n",
    "                            name = stock + 'Preço de Fechamento',\n",
    "                            line = dict(color = '#330000'),\n",
    "                            opacity = 1.0)\n",
    "\n",
    "close_prices2 = go.Candlestick(\n",
    "                                x = df_stock_prices['Date'],\n",
    "                                open = df_stock_prices['Open'],\n",
    "                                high = df_stock_prices['High'],\n",
    "                                low = df_stock_prices['Low'],\n",
    "                                close = df_stock_prices['Close'])\n",
    "\n",
    "mm_s = go.Scatter(\n",
    "                    x = df_stock_prices['Date'],\n",
    "                    y = df_stock_prices['MM_SHORT'],\n",
    "                    name = 'Média Móvel Curta',\n",
    "                    line = dict(color = '#B2FF66'),\n",
    "                    opacity = 1.0)\n",
    "\n",
    "mm_l = go.Scatter(\n",
    "                    x = df_stock_prices['Date'],\n",
    "                    y = df_stock_prices['MM_LONG'],\n",
    "                    name = 'Média Móvel Longa',\n",
    "                    line = dict(color = '#FF00FF'),\n",
    "                    opacity = 1.0)\n",
    "\n",
    "layout = go.Layout(\n",
    "                    autosize=False,\n",
    "                    legend_orientation='h',\n",
    "                    width=1000,\n",
    "                    height=400)\n",
    "\n",
    "data_prices = [close_prices,mm_s,mm_l]\n",
    "\n",
    "fig = go.Figure(data=data_prices, layout=layout)\n",
    "\n",
    "py.iplot(fig)"
   ]
  },
  {
   "cell_type": "markdown",
   "metadata": {},
   "source": [
    "## Faz o backtest da estratégia "
   ]
  },
  {
   "cell_type": "code",
   "execution_count": null,
   "metadata": {
    "tags": []
   },
   "outputs": [],
   "source": [
    "start_price = 0\n",
    "last_spread = 0\n",
    "lowest_price = 0\n",
    "drawdown = 0\n",
    "drawdown2 = 0\n",
    "payoff = 0\n",
    "date_today = datetime.date.today() - datetime.timedelta(days=3)\n",
    "send_mail = False\n",
    "\n",
    "\n",
    "for row in df_stock_prices.itertuples():\n",
    "    lote = capital / row.Close\n",
    "    #print(lote)\n",
    "    if date_today <= row.Date & password != '0':\n",
    "    if (row.MM_SHORT > row.MM_LONG) & (start_price < 0.01):\n",
    "        #print(start_price)\n",
    "        df_stock_prices.at[row.Index, 'Start'] = row.Close\n",
    "        start_price = row.Close\n",
    "        if send_mail == True & password != '0':\n",
    "            yag.send(email, password, 'Entrada pela estratégia de cruzmento de MM foi detectada')\n",
    "            send_mail = False\n",
    "    elif (row.MM_SHORT < row.MM_LONG) & (start_price < 0.01):\n",
    "        #print(start_price)\n",
    "        df_stock_prices.at[row.Index, 'Start'] = row.Close\n",
    "        start_price = row.Close\n",
    "    elif (row.MM_SHORT > row.MM_LONG) & (start_price > 0):\n",
    "        #print(start_price)\n",
    "        if last_spread < 0:\n",
    "            df_stock_prices.at[row.Index, 'Profit'] = (start_price - row.Close) * lote\n",
    "            df_stock_prices.at[row.Index, 'Stop'] = row.Close\n",
    "            df_stock_prices.at[row.Index, 'Start'] = row.Close\n",
    "            start_price = row.Start\n",
    "        else:\n",
    "            df_stock_prices.at[row.Index, 'Start'] = start_price\n",
    "    elif (row.MM_SHORT < row.MM_LONG) & (start_price > 0):\n",
    "        #print(start_price)\n",
    "        if last_spread > 0:\n",
    "            df_stock_prices.at[row.Index, 'Profit'] = (row.Close - start_price) * lote\n",
    "            df_stock_prices.at[row.Index, 'Stop'] = row.Close\n",
    "            df_stock_prices.at[row.Index, 'Start'] = row.Close\n",
    "            start_price = row.Start\n",
    "            if password != '0':\n",
    "                yag.send(email, password, 'Encerrada operação pela estratégia de cruzmento de MM.')\n",
    "            send_mail = False\n",
    "        else:\n",
    "            df_stock_prices.at[row.Index, 'Start'] = start_price\n",
    "            if password != '0':\n",
    "                yag.send(email, password, 'Entrada pela estratégia de cruzmento de MM foi detectada')\n",
    "            send_mail = False\n",
    "    last_spread = row.SPREAD_MM\n",
    "\n",
    "df_stock_prices.head(10)"
   ]
  },
  {
   "cell_type": "markdown",
   "metadata": {},
   "source": [
    "## Print mostrando o resultado da estrategia"
   ]
  },
  {
   "cell_type": "code",
   "execution_count": null,
   "metadata": {
    "tags": []
   },
   "outputs": [],
   "source": [
    "print('O resultado da estratégia é R$ %7.2f' % df_stock_prices['Profit'].sum())"
   ]
  },
  {
   "cell_type": "markdown",
   "metadata": {},
   "source": [
    "## Exporta o data frame para uma planilha do excel"
   ]
  },
  {
   "cell_type": "code",
   "execution_count": null,
   "metadata": {},
   "outputs": [],
   "source": [
    "df_stock_prices.to_excel('cruzamento_mm.xlsx', sheet_name='Cross_MM', index=False)"
   ]
  },
  {
   "cell_type": "code",
   "execution_count": null,
   "metadata": {
    "tags": []
   },
   "outputs": [],
   "source": [
    "# Armazena numero de entradas da estratégia\n",
    "df_stock_prices_count = df_stock_prices.loc[df_stock_prices['Profit']!=0].count()\n",
    "entry_count = df_stock_prices_count['Profit']\n",
    "\n",
    "# Armazena número de entradas com lucro\n",
    "df_stock_prices_count = df_stock_prices.loc[df_stock_prices['Profit']>0].count()\n",
    "entry_count_profit = df_stock_prices_count['Profit']\n",
    "\n",
    "# Armazena número de entradas com prejuizo\n",
    "df_stock_prices_count = df_stock_prices.loc[df_stock_prices['Profit']<0].count()\n",
    "entry_count_loss = df_stock_prices_count['Profit']\n",
    "\n",
    "# Armazena resultado financeiro das entradas com lucro\n",
    "df_stock_prices_sum = df_stock_prices.loc[df_stock_prices['Profit']>0].sum()\n",
    "entry_sum_profit = df_stock_prices_sum['Profit']\n",
    "\n",
    "# Armazena resultado financeiro das entradas com prejuizo\n",
    "df_stock_prices_sum = df_stock_prices.loc[df_stock_prices['Profit']<0].sum()\n",
    "entry_sum_loss = df_stock_prices_sum['Profit']\n",
    "\n",
    "payoff = (entry_sum_profit / entry_count_profit) / ((entry_sum_loss / entry_count_loss) * -1)\n",
    "hit_rate = entry_count_profit / entry_count\n",
    "math_expec = payoff * (1 - hit_rate)\n",
    "\n",
    "print(hit_rate)\n",
    "print(payoff)\n",
    "print(math_expec)\n",
    "print('O número de entradas executadas foi de %7.0f' % entry_count)\n"
   ]
  },
  {
   "cell_type": "code",
   "execution_count": null,
   "metadata": {},
   "outputs": [],
   "source": [
    "import os\n",
    "# Se o arquivo existe ele será excluido para ser criado novamente\n",
    "if os.path.exists('cruzamento_mm.xlsx'):\n",
    "  os.remove('cruzamento_mm.xlsx')\n",
    "else:\n",
    "  print(\"The file does not exist\")\n",
    "\n",
    "# Exporta o data frame para um arquivo no Excel\n",
    "df_stock_prices.to_excel('cruzamento_mm.xlsx', sheet_name='cruzamento_mm', index=False)\n",
    "\n",
    "# Cria um resumo do backtest em uma nova guia do Excel\n",
    "wb = xl.load_workbook('cruzamento_mm.xlsx')\n",
    "\n",
    "sheet = wb.create_sheet(index = 0 , title = \"Resumo_Backtest\") \n",
    "\n",
    "sheet.column_dimensions['A'].width = 30\n",
    "sheet.column_dimensions['B'].width = 20\n",
    "sheet['A1'] = 'Resumo do Backtest'\n",
    "sheet['A2'] = 'Periodo avaliado:'\n",
    "sheet['B2'] = str(ini_date) + ' até ' + str(end_date)\n",
    "sheet['A3'] = 'Papel:'\n",
    "sheet['B3'] = stock.upper()\n",
    "sheet['A4'] = 'Capital:'\n",
    "sheet['B4'] = capital\n",
    "sheet['B4'].style = 'Comma'\n",
    "sheet['A5'] = 'Média Móvel Curta:'\n",
    "sheet['B5'] = num_mm_short\n",
    "sheet['A6'] = 'Média Móvel Longa'\n",
    "sheet['B6'] = num_mm_long\n",
    "sheet['A7'] = 'Resultado Financeiro: R$'\n",
    "sheet['B7'] = df_stock_prices['Profit'].sum()\n",
    "sheet['B7'].style = 'Comma'\n",
    "sheet['A8'] = 'Rentabilidade:'\n",
    "sheet['B8'] = df_stock_prices['Profit'].sum() / capital\n",
    "sheet['B8'].style = 'Percent'\n",
    "sheet['A9'] = 'Número de entradas Executadas: '\n",
    "sheet['B9'] = entry_count\n",
    "sheet['A10'] = 'Número de operações Vencedoras:'\n",
    "sheet['B10'] = entry_count_profit\n",
    "sheet['A11'] = 'Número de operações Perdedoras:'\n",
    "sheet['B11'] = entry_count_loss\n",
    "sheet['A12'] = 'O payoff da estratégia é:'\n",
    "sheet['B12'] = payoff\n",
    "sheet['A13'] = 'O drawdown máximo da estratégia é de:'\n",
    "sheet['B13'] = drawdown\n",
    "sheet['B13'].style = 'Percent'\n",
    "sheet['A14'] = 'A taxa de acerto da estratégia é de:'\n",
    "sheet['B14'] = hit_rate\n",
    "sheet['B14'].style = 'Percent'\n",
    "sheet['A15'] = 'A expectativa matemática da estratégia é de:'\n",
    "sheet['B15'] = math_expec\n",
    "wb.save('spread_mm.xlsx')"
   ]
  },
  {
   "cell_type": "code",
   "execution_count": null,
   "metadata": {},
   "outputs": [],
   "source": []
  }
 ],
 "metadata": {
  "language_info": {
   "codemirror_mode": {
    "name": "ipython",
    "version": 3
   },
   "file_extension": ".py",
   "mimetype": "text/x-python",
   "name": "python",
   "nbconvert_exporter": "python",
   "pygments_lexer": "ipython3",
   "version": "3.8.2-final"
  },
  "orig_nbformat": 2,
  "kernelspec": {
   "name": ".venv",
   "display_name": ".venv"
  }
 },
 "nbformat": 4,
 "nbformat_minor": 2
}